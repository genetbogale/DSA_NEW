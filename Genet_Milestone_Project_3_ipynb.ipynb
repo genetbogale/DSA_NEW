{
  "nbformat": 4,
  "nbformat_minor": 0,
  "metadata": {
    "colab": {
      "provenance": [],
      "include_colab_link": true
    },
    "kernelspec": {
      "name": "python3",
      "display_name": "Python 3"
    },
    "language_info": {
      "name": "python"
    }
  },
  "cells": [
    {
      "cell_type": "markdown",
      "metadata": {
        "id": "view-in-github",
        "colab_type": "text"
      },
      "source": [
        "<a href=\"https://colab.research.google.com/github/genetbogale/DSA_NEW/blob/main/Genet_Milestone_Project_3_ipynb.ipynb\" target=\"_parent\"><img src=\"https://colab.research.google.com/assets/colab-badge.svg\" alt=\"Open In Colab\"/></a>"
      ]
    },
    {
      "cell_type": "markdown",
      "metadata": {
        "id": "1lDZZErLuVot"
      },
      "source": [
        "#Milestone Project 3\n",
        "\n",
        "##Part 1: Planning"
      ]
    },
    {
      "cell_type": "markdown",
      "metadata": {
        "id": "qnXcVBJtuTPC"
      },
      "source": [
        "### Task 1: Choose a Research Question\n",
        "\n",
        "For this task, we're going to focus on formulating a research question with a compelling, real-world application that can be answered using a machine learning model. There is no specific area or topic that you're required to investigate.  In fact, it's usually more interesting if you're exploring your own personal interests or answering a question related to the industry where you will direct your job search."
      ]
    },
    {
      "cell_type": "markdown",
      "metadata": {
        "id": "qZ6b1PQlvbOO"
      },
      "source": [
        "**The most important rule of research questions is to actually have one.** Many, many projects suffer because the learner begins with a vague, general sense of direction but doesn’t have a clear, specific question to answer.  For example, you might wish to complete your Milestone 3 project about shopping habits at a particular online retailer, but the data you use and the ML model you develop will depend on your specific research question.  \n",
        "\n",
        "For example, you’ll need different methods to answer the question “Are customers who see a new version of the store website more likely to make a purchase?” than to answer the question, “What products do customers often purchase in the same order?”"
      ]
    },
    {
      "cell_type": "markdown",
      "metadata": {
        "id": "Eoj8fOkfvgDc"
      },
      "source": [
        "**The second most important rule of research questions is not to get in over your head.**  If you are really interested in your topic, you will probably have lots and lots of research questions that you are tempted to answer with this project.  Do not do it!  For this project, you will answer one (and only one) specific, well-defined question.  "
      ]
    },
    {
      "cell_type": "markdown",
      "metadata": {
        "id": "qHMfV_zbvlwM"
      },
      "source": [
        "Research is not a mechanical process and often doesn’t proceed in a straight line, but it's almost always best to spend time at the start of your project developing and refining a core question that will motivate your study: it makes every aspect of the research process easier.\n",
        "\n",
        "\n",
        "**Although you may need to try a lot of things on your way to answering your research question, please remove any code that is not part of your finished project before submitting.**\n",
        "\n",
        "**This notebook should be able to run from start to finish without error.** \n"
      ]
    },
    {
      "cell_type": "markdown",
      "metadata": {
        "id": "6tqyA-_QwShM"
      },
      "source": [
        "**Step 1 Answer**\n",
        "\n"
      ]
    },
    {
      "cell_type": "markdown",
      "source": [
        "1. Hotel and Tourism \n",
        "2. Banking \n",
        "3. Insurance"
      ],
      "metadata": {
        "id": "SynGivz1Eypy"
      }
    },
    {
      "cell_type": "markdown",
      "metadata": {
        "id": "rSFgF22pwbxx"
      },
      "source": [
        "**Step 2** \n",
        "\n",
        "Pick the industry or topic from Step 1 that interests you the most.  Brainstorm three potential research questions that you could answer for this project.  **Right now, the question will be fairly broad.  You will refine your research question once you select your data set.**  Each potential research question should have the following qualities:\n",
        "\n",
        "*   It's a question, not a statement.\n",
        "*   It has a real-world application with clear stakeholder(s).\n",
        "*   You can answer the question using a machine learning model.\n",
        "*   You know (or have a pretty good idea) which machine learning model will be appropriate for your research question.\n",
        "*   You have a pretty good idea how to find the data that will answer your question (more on that later).\n",
        "*   You don't know the answer in advance. "
      ]
    },
    {
      "cell_type": "markdown",
      "metadata": {
        "id": "Yuxln0sDSaTI"
      },
      "source": [
        "**Step 2 Answer**\n",
        "\n"
      ]
    },
    {
      "cell_type": "markdown",
      "source": [
        "**I'm going to focus on the Hotel and Tourism industry.**\n",
        "\n",
        "1. How can we use machine learning to predict which hotel stays include children and which do not include children or babies?\n",
        "2. How can we use machine learning to predict whether or not a hotel was likely to receive a high number of special requests?\n",
        "3. How can we use machine learning to predict the hotel stays of guests with/without children vary throughout the year?"
      ],
      "metadata": {
        "id": "GXhsb2oIzJX0"
      }
    },
    {
      "cell_type": "markdown",
      "metadata": {
        "id": "HwjFEfxKSvUD"
      },
      "source": [
        "**Step 3** \n",
        "\n",
        "Rank your three potential research questions from Step 2 in order from one to three with one being your top choice and two and three being backup choices.  \n",
        "\n",
        "When ranking your research questions, think both about what interests you the most and what will be practical.  How well-defined is each research question?  How difficult will it be to find data to answer that question?  How difficult will it be to wrangle the data?  How confident do you feel about selecting an ML model to answer the research question?\n",
        "\n",
        "This is a great time to involve your instructor, who can provide guidance on revising your ideas in Step 2 and identifying your top and backup research questions. "
      ]
    },
    {
      "cell_type": "markdown",
      "metadata": {
        "id": "IbIdifQkUdVI"
      },
      "source": [
        "**Step 3 Answer**\n"
      ]
    },
    {
      "cell_type": "markdown",
      "metadata": {
        "id": "3x-aZs05UlJE"
      },
      "source": [
        "\n",
        "\n",
        "\n",
        "\n",
        "\n",
        "\n",
        "First choice: How can we use machine learning to predict which hotel stays include children and which do not include children or babies?\n",
        "\n",
        "Back up choices: How can we use machine learning to predict the hotel stays of guests with/without children vary throughout the year?\n",
        "\n",
        "How can we use machine learning to predict whether or not a hotel was likely to receive a high number of special requests?\n",
        "\n",
        "\n",
        "\n",
        "**My Milestone Project 3 Research Question Is**:  How can we use machine learning to predict whether or not a hotel was likely to receive a disproportionately high number of special requests?"
      ]
    },
    {
      "cell_type": "markdown",
      "metadata": {
        "id": "o0wz2-4iUytl"
      },
      "source": [
        "### Task 2: Select a Data Set \n",
        "\n",
        "Once you have a research question, you need to find a publically available data set that will allow you to answer it."
      ]
    },
    {
      "cell_type": "markdown",
      "metadata": {
        "id": "zdH_T0n4VNgT"
      },
      "source": [
        "\n",
        "There are lots of potential sources.  A few that are particularly useful are:\n",
        "\n",
        "Awesome public data sets: https://github.com/awesomedata/awesome-public-datasets\n",
        "\n",
        "Kaggle: https://www.kaggle.com/datasets\n",
        "\n",
        "UC Irvine Machine Learning: https://archive.ics.uci.edu/ml/datasets.php\n",
        "\n",
        "Definitely Google around for more data sources and ask your peers and instructor!\n",
        " \n"
      ]
    },
    {
      "cell_type": "markdown",
      "metadata": {
        "id": "7Vf4NTGMVhqM"
      },
      "source": [
        "**Step 1** \n",
        "\n",
        "Find at least one data set that you can use to answer your research question from Task 1.  \n",
        "\n",
        "Your data set should:\n",
        "* Be at least 100 records long.  You'll need a lot more records if you want to use a neural network.  \n",
        "* Be publicly available on the Internet. Don't collect your own data.  Don’t use data that can’t be attributed to a reputable source.\n",
        "* Have at least four features (remember that, when modeling text data, each word is a feature).\n",
        "\n",
        "This is another good opportunity to check in with your instructor and make sure you are on the right track.  \n",
        "\n",
        "\n"
      ]
    },
    {
      "cell_type": "markdown",
      "metadata": {
        "id": "M_DfahMdW4Rt"
      },
      "source": [
        "**Step 1 Answer**\n",
        "\n"
      ]
    },
    {
      "cell_type": "markdown",
      "source": [
        "I am going to use the Hotel booking demand data set contains booking information for a city hotel and a resort hotel.The data was originally from the article Hotel Booking Demand Datasets, written by Nuno Antonio, Ana Almeida, and Luis Nunes for Data in Brief, Volume 22, February 2019 can be found\n",
        "at https://www.kaggle.com/datasets/jessemostipak/hotel-booking-demand\n",
        "\n",
        "C:\\Users\\Genet Bogale\\Desktop\\hotel_bookings.csv.zip"
      ],
      "metadata": {
        "id": "TFvrb2o-QG7e"
      }
    },
    {
      "cell_type": "markdown",
      "metadata": {
        "id": "tvo6xPBE5_Q8"
      },
      "source": [
        "**Step 2** \n",
        "\n",
        "Refine your research question so it applies to your specific data set.  \n",
        "\n",
        "For example, if your broad research question was \"How can I use machine learning to group customers by what they buy?\" and you select a data set that contains Target holiday shopping orders, your refined research question might be something like, \"Can I group Target customers by their holiday shopping orders?\"\n",
        "\n",
        "**At this point, it is possible that you will discover that you can't find a data set and research question that work well together.  Work with your instructor to either modify your current question or select one of your backup research questions above. To complete this task successfully, you will need to have selected a research question AND have a data set that can be used to answer it.**\n"
      ]
    },
    {
      "cell_type": "markdown",
      "metadata": {
        "id": "Kk-rG1e17GW0"
      },
      "source": [
        "**Step 2 Answer**\n",
        "\n"
      ]
    },
    {
      "cell_type": "markdown",
      "metadata": {
        "id": "0iKIP0kckXgc"
      },
      "source": [
        "\n",
        "\n",
        "\n",
        "\n",
        "\n",
        "\n",
        "\n",
        "\n",
        "\n",
        "**My refined research question**:  How can we use machine learning to predict which hotel stays include children and which do not include children or babies?"
      ]
    },
    {
      "cell_type": "markdown",
      "metadata": {
        "id": "Z2ld_oYpXTlS"
      },
      "source": [
        "### Task 3: Conduct Exploratory Data Analysis \n",
        "\n",
        "The purpose of exploratory data analysis at the project planning stage is to make sure that your data will answer your research question. It is possible to do everything correctly during this step and still hit a roadblock when you actually run your ML model, but it’s much less likely.\n"
      ]
    },
    {
      "cell_type": "markdown",
      "metadata": {
        "id": "E5xspQ0_XyH2"
      },
      "source": [
        "**Step 1** \n",
        "\n",
        "Determine the type(s) of machine learning model(s) you will use to answer your research question.  There might be only one type of model that will work, or you might have a number of models to choose from."
      ]
    },
    {
      "cell_type": "markdown",
      "metadata": {
        "id": "ufMSg0vqYTY4"
      },
      "source": [
        "**Step 1 Answer**\n",
        "\n",
        "I need to use a Time series(predictive) model to answer my research question. Because Hotel booking demand data is catagorized in time series manner.\n",
        " "
      ]
    },
    {
      "cell_type": "markdown",
      "metadata": {
        "id": "wPokiwSFYZbN"
      },
      "source": [
        "**Step 2** \n",
        "\n",
        "Are there any requirements your data must meet to use the ML model(s) you listed in Step 1?  For example, if you plan to use a logistic regression model, you must have a categorical target.  If you wish to use natural language processing, you'll need a large amount of text data.\n"
      ]
    },
    {
      "cell_type": "markdown",
      "metadata": {
        "id": "t1OF8YFSZMIU"
      },
      "source": [
        "**Step 2 Answer**\n",
        "\n",
        "I use a Time series(predictive) model because my target variable is a time series variable.\n"
      ]
    },
    {
      "cell_type": "markdown",
      "metadata": {
        "id": "HLbjR-PyZVwg"
      },
      "source": [
        "**Step 3** \n",
        "\n",
        "Using visualizations or summary data, show that the requirements you listed in Step 2 are met by your data.  Feel free to add code blocks as necessary.\n"
      ]
    },
    {
      "cell_type": "code",
      "metadata": {
        "id": "edfSQnaxcMR2"
      },
      "source": [
        "#Step 3 Answer:\n"
      ],
      "execution_count": null,
      "outputs": []
    },
    {
      "cell_type": "code",
      "source": [
        "from google.colab import files\n",
        "files.upload()"
      ],
      "metadata": {
        "id": "eNHPfDB3L_ir"
      },
      "execution_count": null,
      "outputs": []
    },
    {
      "cell_type": "code",
      "source": [
        "import pandas as pd\n",
        "pd.set_option('display.max_columns', None)\n",
        "\n",
        "HBD = pd.read_csv('hotel_bookings.csv')\n",
        "# HBD = Hotel Booking Demand\n",
        "print(HBD.head())"
      ],
      "metadata": {
        "id": "Hlh0BD1tNft6"
      },
      "execution_count": null,
      "outputs": []
    },
    {
      "cell_type": "markdown",
      "metadata": {
        "id": "UIXTz2t7VatW"
      },
      "source": [
        "**Step 4**\n",
        "\n",
        "Explore your data to determine what kind of data cleaning or wrangling will be necessary before you run your ML model. \n",
        "\n",
        "Here are some questions to consider:\n",
        "* How many observations does your data set have?\n",
        "* How many features does your data set have?\n",
        "* Does your data have any missing values?\n",
        "* If your data has missing values, will you drop the records or impute the missing data?  What will your imputation strategy be? \n",
        "* Does your data have any outliers or unusual values?  If so, how will you handle them? \n",
        "* Will you need to do any feature engineering or drop any features from your data?\n",
        "* Will you need to encode any categorical data or standardize or normalize quantitative features?  \n",
        "* Will you need to split your data into traning and testing sets?\n",
        "* Will you need to do any preprocessing of text data?\n",
        "\n",
        "If you aren’t sure how to answer any of these questions, your instructor can give you guidance and suggestions.\n",
        "\n"
      ]
    },
    {
      "cell_type": "code",
      "metadata": {
        "id": "DBZmex_8cVvd",
        "colab": {
          "base_uri": "https://localhost:8080/"
        },
        "outputId": "62361a8d-e5a3-42d4-f1d3-f5c388c14754"
      },
      "source": [
        "#Step 4 Answer:\n",
        "print('The number of observations in my data is', HBD.shape[0])\n",
        "print('The number of features in my data is', HBD.shape[1])\n",
        "\n",
        "#Checking for missing values\n",
        "print('The number of missing values in my data is', HBD.isna().sum().sum())\n",
        "\n",
        "#Use this space to explore your data in Step 4."
      ],
      "execution_count": null,
      "outputs": [
        {
          "output_type": "stream",
          "name": "stdout",
          "text": [
            "The number of observations in my data is 118898\n",
            "The number of features in my data is 30\n",
            "The number of missing values in my data is 0\n"
          ]
        }
      ]
    },
    {
      "cell_type": "code",
      "source": [
        "HBD = HBD.drop(['agent'],axis=1)"
      ],
      "metadata": {
        "id": "Io-mxAfL-1Cx"
      },
      "execution_count": null,
      "outputs": []
    },
    {
      "cell_type": "code",
      "source": [
        "HBD.dropna(subset=[\"children\",\"country\"],inplace=True)"
      ],
      "metadata": {
        "id": "Zy1wnHzc_pwi"
      },
      "execution_count": null,
      "outputs": []
    },
    {
      "cell_type": "code",
      "source": [
        "missing_values_count = HBD.isnull().sum()\n",
        "missing_values_count[0:36]"
      ],
      "metadata": {
        "id": "cuMBm2qDAcIc"
      },
      "execution_count": null,
      "outputs": []
    },
    {
      "cell_type": "code",
      "source": [
        "HBD.shape"
      ],
      "metadata": {
        "colab": {
          "base_uri": "https://localhost:8080/"
        },
        "id": "QXjHkruPy5l7",
        "outputId": "6bb6b273-0c3e-4519-d08e-98d1ad2cf509"
      },
      "execution_count": null,
      "outputs": [
        {
          "output_type": "execute_result",
          "data": {
            "text/plain": [
              "(118898, 31)"
            ]
          },
          "metadata": {},
          "execution_count": 145
        }
      ]
    },
    {
      "cell_type": "markdown",
      "metadata": {
        "id": "M6kHJMnKbDra"
      },
      "source": [
        "**Step 4 Answer**\n",
        "\n",
        "My data has 11930 observations and 32 features. \n",
        "\n",
        "There was 129245 missing data and I use drop code because I have a column with the largest part of missing value. \n",
        "\n",
        "My data set has no outliers or unusual observations.\n",
        "\n",
        "I will need to do a lot of feature engineering. \n",
        "\n",
        "As I observed from the data,my target variable currently places each customer into two categories. and I will categorize them as 0, hotel stays include children and 1 which do not include children or babies.\n",
        "\n",
        "I will need to split the data into training and test sets.\n",
        "\n",
        "I will not need to process any text data.\n"
      ]
    },
    {
      "cell_type": "markdown",
      "metadata": {
        "id": "rJFE-Gk1dHlG"
      },
      "source": [
        "**At this point, it is possible that you will discover that you can't answer your research question with your data set.  Work with your instructor to either modify your research question, select a backup research question, or select a new data set. To complete this task successfully, you will need to have selected a research question, have a data set that can be used to answer it, AND have performed EDA.**"
      ]
    },
    {
      "cell_type": "markdown",
      "metadata": {
        "id": "HhyI1UgEcxOC"
      },
      "source": [
        "### Task 4: Develop a Project Plan \n",
        "\n",
        "Now you are ready to plan out everything that will be in your final project slide deck.  \n"
      ]
    },
    {
      "cell_type": "markdown",
      "metadata": {
        "id": "T6A0y3Q7eUCo"
      },
      "source": [
        "**Step 1** \n",
        "\n",
        "Write about one paragraph of background to give your audience some context for your research question.  What motivated you to ask this specific research question?  What is the real world application?  Think about your stakeholder(s) and what that person would want to know about the topic before you got started."
      ]
    },
    {
      "cell_type": "markdown",
      "metadata": {
        "id": "TwCPbC0We_fE"
      },
      "source": [
        "**Step 1 Answer**\n",
        "\n",
        "Have you ever wondered when the best time of year to book a hotel room is? Or the optimal length of stay in order to get the best daily rate? What if you wanted to predict whether or not a hotel was likely to receive a disproportionately high number of special requests?\n",
        "\n",
        "My goal is to determine if measures of these discriptive analysis on hotel booking demand special request can be determined using  children and babies accomedation."
      ]
    },
    {
      "cell_type": "markdown",
      "metadata": {
        "id": "CEwt_DrIedv6"
      },
      "source": [
        "**Step 2** \n",
        "\n",
        "Write one or two paragraphs describing your data set.  What was the source of the data?   Why did you choose to use this particular data set?  Did you experience any challenges with accessing or loading the data?  Describe any data wrangling you need to do to run your ML model."
      ]
    },
    {
      "cell_type": "markdown",
      "metadata": {
        "id": "F6aD8mXffCBd"
      },
      "source": [
        "**Step 2 Answer**\n",
        "My data Source was kaggl and this data set contains booking information for a city hotel and a resort hotel includes information such as when the booking was made, length of stay, the number of adults, children, and/or babies, and the number of available parking spaces, among other things.\n",
        "\n",
        "The data has missing and null values and I will clean it to make my ML model accurate."
      ]
    },
    {
      "cell_type": "markdown",
      "metadata": {
        "id": "A_1IYpwRev5M"
      },
      "source": [
        "**Step 3**\n",
        "\n",
        "Write one paragraph describing the model or models you plan to use.  Why did you pick this model or models?  How will they answer your research question?  What metrics will you use to evaluate the model performance?  "
      ]
    },
    {
      "cell_type": "markdown",
      "metadata": {
        "id": "C6_lhy2wfEdQ"
      },
      "source": [
        "**Step 3 Answer**\n",
        "![image.png](data:image/png;base64,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)\n",
        "Write your answer for Step 3 here."
      ]
    },
    {
      "cell_type": "markdown",
      "metadata": {
        "id": "DTynDQ5Xe3Ee"
      },
      "source": [
        "**Step 4**\n",
        "\n",
        "Think about your intended audience.  How will you communicate your results to your stakeholders?  What data storytelling techniques will you use in your presentation to engage your audience?"
      ]
    },
    {
      "cell_type": "markdown",
      "metadata": {
        "id": "YiK51IpWfGtV"
      },
      "source": [
        "**Step 4 Answer**\n",
        "\n",
        "The audienc of this project will be researchers in Tourisim and travel insdustry and Aviation Industries and I will use visual data storytelling techniques like charts and graphs to engage my audience."
      ]
    },
    {
      "cell_type": "markdown",
      "source": [
        "##Task 5: Data Wrangling\n",
        "\n",
        "Use the following code block (feel free to add more) to do any data wrangling.  It may be helpful to refer to the questions you answered previously in the Exploratory Data Analysis section.  For reference, they are:\n",
        "\n",
        "Here are some questions to consider:\n",
        "\n",
        "* How many observations does your data set have?\n",
        "* How many features does your data set have?\n",
        "* Does your data have any missing values?\n",
        "* If your data has missing values, will you drop the records or impute the * missing data? What will your imputation strategy be?\n",
        "* Does your data have any outliers or unusual values? If so, how will you handle them?\n",
        "* Will you need to do any feature engineering or drop any features from your data?\n",
        "* Will you need to encode any categorical data or standardize or normalize quantitative features?\n",
        "* Will you need to split your data into traning and testing sets?\n",
        "* Will you need to do any pre-processing of text data?"
      ],
      "metadata": {
        "id": "PRpKLHkDnKGT"
      }
    },
    {
      "cell_type": "code",
      "source": [
        "#Task 5 - Data Wrangling - Use this code block to do any data wrangling.\n",
        "# Make sure to clearly comment your code."
      ],
      "metadata": {
        "id": "YQMcpQNBnFJh"
      },
      "execution_count": null,
      "outputs": []
    },
    {
      "cell_type": "code",
      "source": [
        "from sklearn.model_selection import train_test_split\n",
        "from sklearn.metrics import roc_curve, auc, confusion_matrix, precision_score, recall_score\n",
        "from sklearn.linear_model import LogisticRegression\n",
        "from sklearn.model_selection import cross_val_score, cross_validate\n",
        "import os,sys\n",
        "from scipy import stats\n",
        "import numpy as np\n",
        "from scipy.optimize import curve_fit\n",
        "from sklearn.metrics import r2_score, mean_squared_error as MSE\n",
        "import matplotlib.pyplot as plt"
      ],
      "metadata": {
        "id": "r8QCq8kvFucb"
      },
      "execution_count": null,
      "outputs": []
    },
    {
      "cell_type": "code",
      "source": [
        "print('The number of observations in my data is', HBD.shape[0])\n",
        "print('The number of features in my data is', HBD.shape[1])\n",
        "\n",
        "#Checking for missing values\n",
        "print('The number of missing values in my data is', HBD.isna().sum().sum())\n"
      ],
      "metadata": {
        "id": "doiuhSCEGBPd",
        "colab": {
          "base_uri": "https://localhost:8080/"
        },
        "outputId": "88c9be5f-7cc2-48d5-a819-54c9810da05a"
      },
      "execution_count": null,
      "outputs": [
        {
          "output_type": "stream",
          "name": "stdout",
          "text": [
            "The number of observations in my data is 118898\n",
            "The number of features in my data is 31\n",
            "The number of missing values in my data is 0\n"
          ]
        }
      ]
    },
    {
      "cell_type": "code",
      "source": [
        "\n",
        "HBD.loc[HBD['lead_time'] > 380, ['lead_time']] = 380\n",
        "HBD.loc[HBD['stays_in_weekend_nights'] > 6, ['stays_in_weekend_nights']] = 6\n",
        "HBD.loc[HBD['stays_in_week_nights'] > 10, ['stays_in_week_nights']] = 10\n",
        "HBD.loc[HBD['adults'] > 4, ['adults']] = 4\n",
        "HBD.loc[HBD['children'] >= 4, ['children']] = 0\n",
        "HBD.loc[HBD['babies'] > 2, ['babies']] = 0\n",
        "HBD.loc[HBD['previous_cancellations'] > 0, ['previous_cancellations']] = 1\n",
        "HBD.loc[HBD['previous_bookings_not_canceled'] > 0, ['previous_bookings_not_canceled']] = 1\n",
        "HBD.loc[HBD['booking_changes'] > 6, ['booking_changes']] = 5\n",
        "HBD.loc[HBD['days_in_waiting_list'] > 0, ['days_in_waiting_list']] = 1\n"
      ],
      "metadata": {
        "id": "FqaAHzg9HmmU"
      },
      "execution_count": null,
      "outputs": []
    },
    {
      "cell_type": "code",
      "source": [
        "#Categegorizing the target feature as 0 (Children not Included) and 1 ( Children included )\n",
        "HBD.loc[HBD['children'] ==4, 'Childrens_Booked'] = 1\n",
        "HBD.loc[HBD['children'] !=4, 'Childrens_Booked'] = 0"
      ],
      "metadata": {
        "id": "7u_y9M7iQZu6"
      },
      "execution_count": null,
      "outputs": []
    },
    {
      "cell_type": "code",
      "source": [
        "HBD.value_counts(\"children\").plot.pie(autopct = \"%.1f\")\n",
        "HBD.value_counts(\"children\")"
      ],
      "metadata": {
        "colab": {
          "base_uri": "https://localhost:8080/",
          "height": 352
        },
        "id": "uJshfVLivlx4",
        "outputId": "b0b28703-5cc3-422f-a54c-f0946caac20c"
      },
      "execution_count": null,
      "outputs": [
        {
          "output_type": "execute_result",
          "data": {
            "text/plain": [
              "children\n",
              "0.0    110320\n",
              "1.0      4852\n",
              "2.0      3650\n",
              "3.0        76\n",
              "dtype: int64"
            ]
          },
          "metadata": {},
          "execution_count": 175
        },
        {
          "output_type": "display_data",
          "data": {
            "text/plain": [
              "<Figure size 432x288 with 1 Axes>"
            ],
            "image/png": "[encoded data removed]"
          },
          "metadata": {}
        }
      ]
    },
    {
      "cell_type": "code",
      "source": [
        "print(pd.crosstab(HBD['children'], HBD['babies'], dropna = False))"
      ],
      "metadata": {
        "id": "WGeSlxGnOXHm",
        "colab": {
          "base_uri": "https://localhost:8080/"
        },
        "outputId": "f6acc1f2-e585-4ce5-970b-b7054291e7bf"
      },
      "execution_count": null,
      "outputs": [
        {
          "output_type": "stream",
          "name": "stdout",
          "text": [
            "babies         0    1   2\n",
            "children                 \n",
            "0.0       109583  726  11\n",
            "1.0         4709  140   3\n",
            "2.0         3618   32   0\n",
            "3.0           76    0   0\n"
          ]
        }
      ]
    },
    {
      "cell_type": "code",
      "source": [
        "print(HBD['children'].value_counts())\n"
      ],
      "metadata": {
        "colab": {
          "base_uri": "https://localhost:8080/"
        },
        "id": "HphW6DUBtQ7q",
        "outputId": "eda57cfa-8697-4810-8a30-4a567bb9ed02"
      },
      "execution_count": null,
      "outputs": [
        {
          "output_type": "stream",
          "name": "stdout",
          "text": [
            "0.0    110320\n",
            "1.0      4852\n",
            "2.0      3650\n",
            "3.0        76\n",
            "Name: children, dtype: int64\n"
          ]
        }
      ]
    },
    {
      "cell_type": "code",
      "source": [
        "print(HBD['babies'].value_counts())"
      ],
      "metadata": {
        "colab": {
          "base_uri": "https://localhost:8080/"
        },
        "id": "JoRFugrDwp7Z",
        "outputId": "9e070121-e8e2-4693-d273-11a7420fb66f"
      },
      "execution_count": null,
      "outputs": [
        {
          "output_type": "stream",
          "name": "stdout",
          "text": [
            "0    117986\n",
            "1       898\n",
            "2        14\n",
            "Name: babies, dtype: int64\n"
          ]
        }
      ]
    },
    {
      "cell_type": "markdown",
      "source": [
        "##Task 6: Modeling\n",
        "\n",
        "Use the following code block to build your ML model.  "
      ],
      "metadata": {
        "id": "FVyXtpPhnxMp"
      }
    },
    {
      "cell_type": "code",
      "source": [
        "HBD.head()"
      ],
      "metadata": {
        "id": "imlPLv0mXnok",
        "colab": {
          "base_uri": "https://localhost:8080/",
          "height": 357
        },
        "outputId": "8494e84a-9ec8-4bfc-ae23-26308eec2516"
      },
      "execution_count": null,
      "outputs": [
        {
          "output_type": "execute_result",
          "data": {
            "text/plain": [
              "          hotel  is_canceled  lead_time  arrival_date_year arrival_date_month  \\\n",
              "0  Resort Hotel            0        342               2015               July   \n",
              "1  Resort Hotel            0        380               2015               July   \n",
              "2  Resort Hotel            0          7               2015               July   \n",
              "3  Resort Hotel            0         13               2015               July   \n",
              "4  Resort Hotel            0         14               2015               July   \n",
              "\n",
              "   arrival_date_week_number  arrival_date_day_of_month  \\\n",
              "0                        27                          1   \n",
              "1                        27                          1   \n",
              "2                        27                          1   \n",
              "3                        27                          1   \n",
              "4                        27                          1   \n",
              "\n",
              "   stays_in_weekend_nights  stays_in_week_nights  adults  children  babies  \\\n",
              "0                        0                     0       2       0.0       0   \n",
              "1                        0                     0       2       0.0       0   \n",
              "2                        0                     1       1       0.0       0   \n",
              "3                        0                     1       1       0.0       0   \n",
              "4                        0                     2       2       0.0       0   \n",
              "\n",
              "  meal country market_segment distribution_channel  is_repeated_guest  \\\n",
              "0   BB     PRT         Direct               Direct                  0   \n",
              "1   BB     PRT         Direct               Direct                  0   \n",
              "2   BB     GBR         Direct               Direct                  0   \n",
              "3   BB     GBR      Corporate            Corporate                  0   \n",
              "4   BB     GBR      Online TA                TA/TO                  0   \n",
              "\n",
              "   previous_cancellations  previous_bookings_not_canceled reserved_room_type  \\\n",
              "0                       0                               0                  C   \n",
              "1                       0                               0                  C   \n",
              "2                       0                               0                  A   \n",
              "3                       0                               0                  A   \n",
              "4                       0                               0                  A   \n",
              "\n",
              "  assigned_room_type  booking_changes deposit_type  days_in_waiting_list  \\\n",
              "0                  C                3   No Deposit                     0   \n",
              "1                  C                4   No Deposit                     0   \n",
              "2                  C                0   No Deposit                     0   \n",
              "3                  A                0   No Deposit                     0   \n",
              "4                  A                0   No Deposit                     0   \n",
              "\n",
              "  customer_type   adr  required_car_parking_spaces  total_of_special_requests  \\\n",
              "0     Transient   0.0                            0                          0   \n",
              "1     Transient   0.0                            0                          0   \n",
              "2     Transient  75.0                            0                          0   \n",
              "3     Transient  75.0                            0                          0   \n",
              "4     Transient  98.0                            0                          1   \n",
              "\n",
              "  reservation_status reservation_status_date  Childrens_Booked  \n",
              "0          Check-Out                7/1/2015               0.0  \n",
              "1          Check-Out                7/1/2015               0.0  \n",
              "2          Check-Out                7/2/2015               0.0  \n",
              "3          Check-Out                7/2/2015               0.0  \n",
              "4          Check-Out                7/3/2015               0.0  "
            ],
            "text/html": [
              "\n",
              "  <div id=\"df-34f23cc8-e656-4f38-886c-9f70dedaa9d6\">\n",
              "    <div class=\"colab-df-container\">\n",
              "      <div>\n",
              "<style scoped>\n",
              "    .dataframe tbody tr th:only-of-type {\n",
              "        vertical-align: middle;\n",
              "    }\n",
              "\n",
              "    .dataframe tbody tr th {\n",
              "        vertical-align: top;\n",
              "    }\n",
              "\n",
              "    .dataframe thead th {\n",
              "        text-align: right;\n",
              "    }\n",
              "</style>\n",
              "<table border=\"1\" class=\"dataframe\">\n",
              "  <thead>\n",
              "    <tr style=\"text-align: right;\">\n",
              "      <th></th>\n",
              "      <th>hotel</th>\n",
              "      <th>is_canceled</th>\n",
              "      <th>lead_time</th>\n",
              "      <th>arrival_date_year</th>\n",
              "      <th>arrival_date_month</th>\n",
              "      <th>arrival_date_week_number</th>\n",
              "      <th>arrival_date_day_of_month</th>\n",
              "      <th>stays_in_weekend_nights</th>\n",
              "      <th>stays_in_week_nights</th>\n",
              "      <th>adults</th>\n",
              "      <th>children</th>\n",
              "      <th>babies</th>\n",
              "      <th>meal</th>\n",
              "      <th>country</th>\n",
              "      <th>market_segment</th>\n",
              "      <th>distribution_channel</th>\n",
              "      <th>is_repeated_guest</th>\n",
              "      <th>previous_cancellations</th>\n",
              "      <th>previous_bookings_not_canceled</th>\n",
              "      <th>reserved_room_type</th>\n",
              "      <th>assigned_room_type</th>\n",
              "      <th>booking_changes</th>\n",
              "      <th>deposit_type</th>\n",
              "      <th>days_in_waiting_list</th>\n",
              "      <th>customer_type</th>\n",
              "      <th>adr</th>\n",
              "      <th>required_car_parking_spaces</th>\n",
              "      <th>total_of_special_requests</th>\n",
              "      <th>reservation_status</th>\n",
              "      <th>reservation_status_date</th>\n",
              "      <th>Childrens_Booked</th>\n",
              "    </tr>\n",
              "  </thead>\n",
              "  <tbody>\n",
              "    <tr>\n",
              "      <th>0</th>\n",
              "      <td>Resort Hotel</td>\n",
              "      <td>0</td>\n",
              "      <td>342</td>\n",
              "      <td>2015</td>\n",
              "      <td>July</td>\n",
              "      <td>27</td>\n",
              "      <td>1</td>\n",
              "      <td>0</td>\n",
              "      <td>0</td>\n",
              "      <td>2</td>\n",
              "      <td>0.0</td>\n",
              "      <td>0</td>\n",
              "      <td>BB</td>\n",
              "      <td>PRT</td>\n",
              "      <td>Direct</td>\n",
              "      <td>Direct</td>\n",
              "      <td>0</td>\n",
              "      <td>0</td>\n",
              "      <td>0</td>\n",
              "      <td>C</td>\n",
              "      <td>C</td>\n",
              "      <td>3</td>\n",
              "      <td>No Deposit</td>\n",
              "      <td>0</td>\n",
              "      <td>Transient</td>\n",
              "      <td>0.0</td>\n",
              "      <td>0</td>\n",
              "      <td>0</td>\n",
              "      <td>Check-Out</td>\n",
              "      <td>7/1/2015</td>\n",
              "      <td>0.0</td>\n",
              "    </tr>\n",
              "    <tr>\n",
              "      <th>1</th>\n",
              "      <td>Resort Hotel</td>\n",
              "      <td>0</td>\n",
              "      <td>380</td>\n",
              "      <td>2015</td>\n",
              "      <td>July</td>\n",
              "      <td>27</td>\n",
              "      <td>1</td>\n",
              "      <td>0</td>\n",
              "      <td>0</td>\n",
              "      <td>2</td>\n",
              "      <td>0.0</td>\n",
              "      <td>0</td>\n",
              "      <td>BB</td>\n",
              "      <td>PRT</td>\n",
              "      <td>Direct</td>\n",
              "      <td>Direct</td>\n",
              "      <td>0</td>\n",
              "      <td>0</td>\n",
              "      <td>0</td>\n",
              "      <td>C</td>\n",
              "      <td>C</td>\n",
              "      <td>4</td>\n",
              "      <td>No Deposit</td>\n",
              "      <td>0</td>\n",
              "      <td>Transient</td>\n",
              "      <td>0.0</td>\n",
              "      <td>0</td>\n",
              "      <td>0</td>\n",
              "      <td>Check-Out</td>\n",
              "      <td>7/1/2015</td>\n",
              "      <td>0.0</td>\n",
              "    </tr>\n",
              "    <tr>\n",
              "      <th>2</th>\n",
              "      <td>Resort Hotel</td>\n",
              "      <td>0</td>\n",
              "      <td>7</td>\n",
              "      <td>2015</td>\n",
              "      <td>July</td>\n",
              "      <td>27</td>\n",
              "      <td>1</td>\n",
              "      <td>0</td>\n",
              "      <td>1</td>\n",
              "      <td>1</td>\n",
              "      <td>0.0</td>\n",
              "      <td>0</td>\n",
              "      <td>BB</td>\n",
              "      <td>GBR</td>\n",
              "      <td>Direct</td>\n",
              "      <td>Direct</td>\n",
              "      <td>0</td>\n",
              "      <td>0</td>\n",
              "      <td>0</td>\n",
              "      <td>A</td>\n",
              "      <td>C</td>\n",
              "      <td>0</td>\n",
              "      <td>No Deposit</td>\n",
              "      <td>0</td>\n",
              "      <td>Transient</td>\n",
              "      <td>75.0</td>\n",
              "      <td>0</td>\n",
              "      <td>0</td>\n",
              "      <td>Check-Out</td>\n",
              "      <td>7/2/2015</td>\n",
              "      <td>0.0</td>\n",
              "    </tr>\n",
              "    <tr>\n",
              "      <th>3</th>\n",
              "      <td>Resort Hotel</td>\n",
              "      <td>0</td>\n",
              "      <td>13</td>\n",
              "      <td>2015</td>\n",
              "      <td>July</td>\n",
              "      <td>27</td>\n",
              "      <td>1</td>\n",
              "      <td>0</td>\n",
              "      <td>1</td>\n",
              "      <td>1</td>\n",
              "      <td>0.0</td>\n",
              "      <td>0</td>\n",
              "      <td>BB</td>\n",
              "      <td>GBR</td>\n",
              "      <td>Corporate</td>\n",
              "      <td>Corporate</td>\n",
              "      <td>0</td>\n",
              "      <td>0</td>\n",
              "      <td>0</td>\n",
              "      <td>A</td>\n",
              "      <td>A</td>\n",
              "      <td>0</td>\n",
              "      <td>No Deposit</td>\n",
              "      <td>0</td>\n",
              "      <td>Transient</td>\n",
              "      <td>75.0</td>\n",
              "      <td>0</td>\n",
              "      <td>0</td>\n",
              "      <td>Check-Out</td>\n",
              "      <td>7/2/2015</td>\n",
              "      <td>0.0</td>\n",
              "    </tr>\n",
              "    <tr>\n",
              "      <th>4</th>\n",
              "      <td>Resort Hotel</td>\n",
              "      <td>0</td>\n",
              "      <td>14</td>\n",
              "      <td>2015</td>\n",
              "      <td>July</td>\n",
              "      <td>27</td>\n",
              "      <td>1</td>\n",
              "      <td>0</td>\n",
              "      <td>2</td>\n",
              "      <td>2</td>\n",
              "      <td>0.0</td>\n",
              "      <td>0</td>\n",
              "      <td>BB</td>\n",
              "      <td>GBR</td>\n",
              "      <td>Online TA</td>\n",
              "      <td>TA/TO</td>\n",
              "      <td>0</td>\n",
              "      <td>0</td>\n",
              "      <td>0</td>\n",
              "      <td>A</td>\n",
              "      <td>A</td>\n",
              "      <td>0</td>\n",
              "      <td>No Deposit</td>\n",
              "      <td>0</td>\n",
              "      <td>Transient</td>\n",
              "      <td>98.0</td>\n",
              "      <td>0</td>\n",
              "      <td>1</td>\n",
              "      <td>Check-Out</td>\n",
              "      <td>7/3/2015</td>\n",
              "      <td>0.0</td>\n",
              "    </tr>\n",
              "  </tbody>\n",
              "</table>\n",
              "</div>\n",
              "      <button class=\"colab-df-convert\" onclick=\"convertToInteractive('df-34f23cc8-e656-4f38-886c-9f70dedaa9d6')\"\n",
              "              title=\"Convert this dataframe to an interactive table.\"\n",
              "              style=\"display:none;\">\n",
              "        \n",
              "  <svg xmlns=\"http://www.w3.org/2000/svg\" height=\"24px\"viewBox=\"0 0 24 24\"\n",
              "       width=\"24px\">\n",
              "    <path d=\"M0 0h24v24H0V0z\" fill=\"none\"/>\n",
              "    <path d=\"M18.56 5.44l.94 2.06.94-2.06 2.06-.94-2.06-.94-.94-2.06-.94 2.06-2.06.94zm-11 1L8.5 8.5l.94-2.06 2.06-.94-2.06-.94L8.5 2.5l-.94 2.06-2.06.94zm10 10l.94 2.06.94-2.06 2.06-.94-2.06-.94-.94-2.06-.94 2.06-2.06.94z\"/><path d=\"M17.41 7.96l-1.37-1.37c-.4-.4-.92-.59-1.43-.59-.52 0-1.04.2-1.43.59L10.3 9.45l-7.72 7.72c-.78.78-.78 2.05 0 2.83L4 21.41c.39.39.9.59 1.41.59.51 0 1.02-.2 1.41-.59l7.78-7.78 2.81-2.81c.8-.78.8-2.07 0-2.86zM5.41 20L4 18.59l7.72-7.72 1.47 1.35L5.41 20z\"/>\n",
              "  </svg>\n",
              "      </button>\n",
              "      \n",
              "  <style>\n",
              "    .colab-df-container {\n",
              "      display:flex;\n",
              "      flex-wrap:wrap;\n",
              "      gap: 12px;\n",
              "    }\n",
              "\n",
              "    .colab-df-convert {\n",
              "      background-color: #E8F0FE;\n",
              "      border: none;\n",
              "      border-radius: 50%;\n",
              "      cursor: pointer;\n",
              "      display: none;\n",
              "      fill: #1967D2;\n",
              "      height: 32px;\n",
              "      padding: 0 0 0 0;\n",
              "      width: 32px;\n",
              "    }\n",
              "\n",
              "    .colab-df-convert:hover {\n",
              "      background-color: #E2EBFA;\n",
              "      box-shadow: 0px 1px 2px rgba(60, 64, 67, 0.3), 0px 1px 3px 1px rgba(60, 64, 67, 0.15);\n",
              "      fill: #174EA6;\n",
              "    }\n",
              "\n",
              "    [theme=dark] .colab-df-convert {\n",
              "      background-color: #3B4455;\n",
              "      fill: #D2E3FC;\n",
              "    }\n",
              "\n",
              "    [theme=dark] .colab-df-convert:hover {\n",
              "      background-color: #434B5C;\n",
              "      box-shadow: 0px 1px 3px 1px rgba(0, 0, 0, 0.15);\n",
              "      filter: drop-shadow(0px 1px 2px rgba(0, 0, 0, 0.3));\n",
              "      fill: #FFFFFF;\n",
              "    }\n",
              "  </style>\n",
              "\n",
              "      <script>\n",
              "        const buttonEl =\n",
              "          document.querySelector('#df-34f23cc8-e656-4f38-886c-9f70dedaa9d6 button.colab-df-convert');\n",
              "        buttonEl.style.display =\n",
              "          google.colab.kernel.accessAllowed ? 'block' : 'none';\n",
              "\n",
              "        async function convertToInteractive(key) {\n",
              "          const element = document.querySelector('#df-34f23cc8-e656-4f38-886c-9f70dedaa9d6');\n",
              "          const dataTable =\n",
              "            await google.colab.kernel.invokeFunction('convertToInteractive',\n",
              "                                                     [key], {});\n",
              "          if (!dataTable) return;\n",
              "\n",
              "          const docLinkHtml = 'Like what you see? Visit the ' +\n",
              "            '<a target=\"_blank\" href=https://colab.research.google.com/notebooks/data_table.ipynb>data table notebook</a>'\n",
              "            + ' to learn more about interactive tables.';\n",
              "          element.innerHTML = '';\n",
              "          dataTable['output_type'] = 'display_data';\n",
              "          await google.colab.output.renderOutput(dataTable, element);\n",
              "          const docLink = document.createElement('div');\n",
              "          docLink.innerHTML = docLinkHtml;\n",
              "          element.appendChild(docLink);\n",
              "        }\n",
              "      </script>\n",
              "    </div>\n",
              "  </div>\n",
              "  "
            ]
          },
          "metadata": {},
          "execution_count": 20
        }
      ]
    },
    {
      "cell_type": "code",
      "source": [
        "#Split the data into target and feature \n",
        "from sklearn.linear_model import LinearRegression\n",
        "y = HBD['Childrens_Booked']\n",
        "X = HBD[['adults','children','babies','reserved_room_type','assigned_room_type','total_of_special_requests']]\n",
        "\n",
        "X = HBD[['hotel','is_canceled','lead_time','arrival_date_year','arrival_date_month','arrival_date_week_number','arrival_date_day_of_month','stays_in_weekend_nights','stays_in_week_nights','adults','children','babies','reserved_room_type','assigned_room_type','total_of_special_requests']]\n",
        "\n",
        "#Train-test split#\n",
        "\n",
        "X_train_val, X_test, y_train_val, y_test = train_test_split(X, y, test_size=0.25, random_state=42)\n",
        "X_train, X_val, y_train, y_val = train_test_split(X_train_val, y_train_val,test_size=0.333, random_state=42)\n",
        "model = LinearRegression\n",
        "\n"
      ],
      "metadata": {
        "id": "2gqXYkg-xgPw"
      },
      "execution_count": null,
      "outputs": []
    },
    {
      "cell_type": "code",
      "source": [
        "one_hot = pd.get_dummies(data=X, columns=['hotel'])\n"
      ],
      "metadata": {
        "id": "aGT1ixn1C_lq"
      },
      "execution_count": null,
      "outputs": []
    },
    {
      "cell_type": "code",
      "source": [
        "from pandas.core.arrays import sparse\n",
        "from sklearn.preprocessing import OneHotEncoder\n",
        "ohe = OneHotEncoder(sparse = False)\n",
        "ohe.fit_transform(HBD[['hotel']])[:5]\n",
        "model_1 = LogisticRegression(random_state=0, solver='lbfgs', max_iter=1)\n",
        "model_2 = LogisticRegression(random_state=0, solver='lbfgs', max_iter=1)\n",
        "\n"
      ],
      "metadata": {
        "id": "AukJtkyL5DyF"
      },
      "execution_count": null,
      "outputs": []
    },
    {
      "cell_type": "code",
      "source": [
        "print(model_1)"
      ],
      "metadata": {
        "colab": {
          "base_uri": "https://localhost:8080/"
        },
        "id": "Bt3_Aev8Enb1",
        "outputId": "50483491-9a29-4f42-cb03-3bbdfff0d219"
      },
      "execution_count": null,
      "outputs": [
        {
          "output_type": "stream",
          "name": "stdout",
          "text": [
            "LogisticRegression(max_iter=1000, random_state=0)\n"
          ]
        }
      ]
    },
    {
      "cell_type": "markdown",
      "source": [
        "##Task 7: Evaluation\n",
        "\n",
        "Use the following code block to evaluate your ML model.  "
      ],
      "metadata": {
        "id": "nqpRwrQPo4WK"
      }
    },
    {
      "cell_type": "code",
      "source": [
        "X2 = HBD[['hotel','children']]\n",
        "y = HBD[['Childrens_Booked']]\n"
      ],
      "metadata": {
        "id": "4Q8Xeog2OtQH"
      },
      "execution_count": null,
      "outputs": []
    },
    {
      "cell_type": "code",
      "source": [
        "print(y)"
      ],
      "metadata": {
        "colab": {
          "base_uri": "https://localhost:8080/"
        },
        "id": "JZK0axzPZ911",
        "outputId": "3f113a02-904e-4c70-89c3-bc2164a20e0b"
      },
      "execution_count": null,
      "outputs": [
        {
          "output_type": "stream",
          "name": "stdout",
          "text": [
            "        Childrens_Booked\n",
            "0                    0.0\n",
            "1                    0.0\n",
            "2                    0.0\n",
            "3                    0.0\n",
            "4                    0.0\n",
            "...                  ...\n",
            "119385               0.0\n",
            "119386               0.0\n",
            "119387               0.0\n",
            "119388               0.0\n",
            "119389               0.0\n",
            "\n",
            "[118898 rows x 1 columns]\n"
          ]
        }
      ]
    },
    {
      "cell_type": "code",
      "source": [
        "one_hot2 = pd.get_dummies(data=X, columns=['hotel','arrival_date_month','reserved_room_type',\t'assigned_room_type'])\n",
        "X2 = pd.DataFrame(one_hot2)"
      ],
      "metadata": {
        "id": "geUhGZzXREuz"
      },
      "execution_count": null,
      "outputs": []
    },
    {
      "cell_type": "code",
      "source": [
        "from sklearn.metrics import accuracy_score\n",
        "X_train_val2, X_test2, y_train_val2, y_test2 = train_test_split(X2, y, test_size=0.25, random_state=42)\n",
        "X_train2, X_val2, y_train2, y_val2 = train_test_split(X_train_val2, y_train_val2,test_size=0.3333, random_state=42)\n"
      ],
      "metadata": {
        "id": "_XCHmUR9Q2s7"
      },
      "execution_count": null,
      "outputs": []
    },
    {
      "cell_type": "code",
      "source": [
        "print(X)"
      ],
      "metadata": {
        "id": "JijzOfwgff4y"
      },
      "execution_count": null,
      "outputs": []
    },
    {
      "cell_type": "code",
      "source": [
        "import os, sys\n",
        "from scipy import stats\n",
        "import numpy as np\n",
        "\n",
        "for index, line in enumerate(open('hotel_bookings.csv', 'r').readlines()):\n",
        "    w = line.split(' ')\n",
        "    l1 = w[1:8]\n",
        "    l2 = w[8:15]\n",
        "\n",
        "    try:\n",
        "        list1 = map(float, l1)\n",
        "        list2 = map(float, l2)\n",
        "    except ValueError:\n",
        "        print ('Line {i} is corrupt!').format(i = index)\n",
        "        break\n",
        "\n"
      ],
      "metadata": {
        "id": "WfwTU16oLroR"
      },
      "execution_count": null,
      "outputs": []
    },
    {
      "cell_type": "code",
      "source": [
        "class Tester(object):\n",
        "    # Number of measurements\n",
        "    nm = 6\n",
        "    temp = [ 0. for x in range(nm) ]"
      ],
      "metadata": {
        "id": "Q3hktrLVRF75"
      },
      "execution_count": null,
      "outputs": []
    },
    {
      "cell_type": "code",
      "source": [
        "scores_2 = cross_val_score(model_2, X_train, y_train, cv=10)"
      ],
      "metadata": {
        "colab": {
          "base_uri": "https://localhost:8080/"
        },
        "id": "8TOl4r1ZN3f0",
        "outputId": "e8a31024-73ca-40a4-e61e-1186e0882dfe"
      },
      "execution_count": null,
      "outputs": [
        {
          "output_type": "stream",
          "name": "stderr",
          "text": [
            "/usr/local/lib/python3.8/dist-packages/sklearn/model_selection/_validation.py:372: FitFailedWarning: \n",
            "10 fits failed out of a total of 10.\n",
            "The score on these train-test partitions for these parameters will be set to nan.\n",
            "If these failures are not expected, you can try to debug them by setting error_score='raise'.\n",
            "\n",
            "Below are more details about the failures:\n",
            "--------------------------------------------------------------------------------\n",
            "10 fits failed with the following error:\n",
            "Traceback (most recent call last):\n",
            "  File \"/usr/local/lib/python3.8/dist-packages/sklearn/model_selection/_validation.py\", line 680, in _fit_and_score\n",
            "    estimator.fit(X_train, y_train, **fit_params)\n",
            "  File \"/usr/local/lib/python3.8/dist-packages/sklearn/linear_model/_logistic.py\", line 1508, in fit\n",
            "    X, y = self._validate_data(\n",
            "  File \"/usr/local/lib/python3.8/dist-packages/sklearn/base.py\", line 581, in _validate_data\n",
            "    X, y = check_X_y(X, y, **check_params)\n",
            "  File \"/usr/local/lib/python3.8/dist-packages/sklearn/utils/validation.py\", line 964, in check_X_y\n",
            "    X = check_array(\n",
            "  File \"/usr/local/lib/python3.8/dist-packages/sklearn/utils/validation.py\", line 746, in check_array\n",
            "    array = np.asarray(array, order=order, dtype=dtype)\n",
            "  File \"/usr/local/lib/python3.8/dist-packages/pandas/core/generic.py\", line 1993, in __array__\n",
            "    return np.asarray(self._values, dtype=dtype)\n",
            "ValueError: could not convert string to float: 'City Hotel'\n",
            "\n",
            "  warnings.warn(some_fits_failed_message, FitFailedWarning)\n"
          ]
        }
      ]
    },
    {
      "cell_type": "code",
      "source": [
        "print('The accuracy of Model 2 is', scores_2.mean())"
      ],
      "metadata": {
        "colab": {
          "base_uri": "https://localhost:8080/"
        },
        "id": "vxHhN7nDa8zX",
        "outputId": "bd3e4cf0-c5cd-4e35-917d-1c034fc24ccf"
      },
      "execution_count": null,
      "outputs": [
        {
          "output_type": "stream",
          "name": "stdout",
          "text": [
            "The accuracy of Model 2 is nan\n"
          ]
        }
      ]
    },
    {
      "cell_type": "code",
      "source": [
        "reg = LinearRegression()"
      ],
      "metadata": {
        "id": "v-1OsA-yRpXb"
      },
      "execution_count": null,
      "outputs": []
    },
    {
      "cell_type": "code",
      "source": [
        "model2 = reg.fit(X_val2, y_val2)"
      ],
      "metadata": {
        "id": "-l8MN1qd7ThM"
      },
      "execution_count": null,
      "outputs": []
    },
    {
      "cell_type": "code",
      "source": [
        "print(model2)"
      ],
      "metadata": {
        "id": "BuaZ7cLZMuxd",
        "colab": {
          "base_uri": "https://localhost:8080/"
        },
        "outputId": "1f663cbb-8101-4547-bae5-d12b7d3ea74f"
      },
      "execution_count": null,
      "outputs": [
        {
          "output_type": "stream",
          "name": "stdout",
          "text": [
            "LinearRegression()\n"
          ]
        }
      ]
    },
    {
      "cell_type": "code",
      "source": [
        "one_hot2 = pd.get_dummies(data=X, columns=['arrival_date_month'])\n",
        "X2 = pd.DataFrame(one_hot2)"
      ],
      "metadata": {
        "id": "CVZU-l9aboGj"
      },
      "execution_count": null,
      "outputs": []
    },
    {
      "cell_type": "code",
      "source": [
        "MSE = (1/31) * (118898)"
      ],
      "metadata": {
        "id": "w9veKLATrugL"
      },
      "execution_count": null,
      "outputs": []
    },
    {
      "cell_type": "code",
      "source": [
        "print(MSE)"
      ],
      "metadata": {
        "colab": {
          "base_uri": "https://localhost:8080/"
        },
        "id": "tTrpTQdHM4fh",
        "outputId": "408acff7-f2bb-46b4-e6a0-ae5104649a3b"
      },
      "execution_count": null,
      "outputs": [
        {
          "output_type": "stream",
          "name": "stdout",
          "text": [
            "3835.4193548387098\n"
          ]
        }
      ]
    },
    {
      "cell_type": "code",
      "source": [
        "HBD = HBD.replace(r'^\\s*$', np.nan, regex=True)"
      ],
      "metadata": {
        "id": "344cMlstuyeP"
      },
      "execution_count": null,
      "outputs": []
    },
    {
      "cell_type": "markdown",
      "source": [
        "##Task 8: Results\n",
        "\n",
        "Use the following text block to summarize your results.  How will you communicate the answer to your research question to stakeholders? "
      ],
      "metadata": {
        "id": "28NBPyS3pJKf"
      }
    },
    {
      "cell_type": "markdown",
      "source": [
        "**Task 8 Answer**\n",
        "\n",
        "I did all the data wrangling, since the data had a lot of missing values, and attributes. because of this, my logistic regession model didn't work, and it was  very challaginng to draw the conclusion. If I had more time, I would like to try using other classification models to see if my results be different."
      ],
      "metadata": {
        "id": "NlGxokmYpWrj"
      }
    },
    {
      "cell_type": "markdown",
      "metadata": {
        "id": "nN23e0hUQyVe"
      },
      "source": [
        "#Part 2: Presentation \n",
        "\n"
      ]
    },
    {
      "cell_type": "markdown",
      "source": [
        "##Task 1: Slide Deck\n",
        "\n",
        "Create and present a slide deck to your classmates showing how you answered your research question.  You can find a Slide Template in the course materials or create your own.  The presentation should be about five minutes long."
      ],
      "metadata": {
        "id": "EgSqhfISBF1j"
      }
    },
    {
      "cell_type": "markdown",
      "source": [
        "##Task 2: Reflection\n",
        "\n",
        "Use the following text block to reflect on the project.  Did you run into anything that was particularly difficult?  What part(s) of the project did you enjoy most?  Did your results leave you with any new questions you'd investigate if you had more time?"
      ],
      "metadata": {
        "id": "uoX0vHCAp8id"
      }
    },
    {
      "cell_type": "markdown",
      "source": [
        "**Task 2 Answer** \n",
        "\n",
        "If I had more time, I would like to try using other classification models to see if my results be different."
      ],
      "metadata": {
        "id": "LB42k9KkqVU-"
      }
    }
  ]
}