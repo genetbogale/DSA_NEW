{
  "nbformat": 4,
  "nbformat_minor": 0,
  "metadata": {
    "colab": {
      "provenance": [],
      "collapsed_sections": [],
      "include_colab_link": true
    },
    "kernelspec": {
      "name": "python3",
      "display_name": "Python 3"
    },
    "language_info": {
      "name": "python"
    }
  },
  "cells": [
    {
      "cell_type": "markdown",
      "metadata": {
        "id": "view-in-github",
        "colab_type": "text"
      },
      "source": [
        "<a href=\"https://colab.research.google.com/github/genetbogale/DSA_NEW/blob/main/Copy_of_python_visualizer.ipynb\" target=\"_parent\"><img src=\"https://colab.research.google.com/assets/colab-badge.svg\" alt=\"Open In Colab\"/></a>"
      ]
    },
    {
      "cell_type": "code",
      "execution_count": null,
      "metadata": {
        "id": "NZhUr2iYdA5K",
        "outputId": "97049606-8806-4ca9-adc9-c006ae95e027",
        "colab": {
          "base_uri": "https://localhost:8080/"
        }
      },
      "outputs": [
        {
          "output_type": "stream",
          "name": "stdout",
          "text": [
            "{'NEPAL': 201, 'USA': 49, 'UK': 14, 'CHINA': 8, 'CANADA': 11}\n"
          ]
        }
      ],
      "source": [
        "import pandas as pd\n",
        "import matplotlib.pyplot as plt\n",
        "from matplotlib.backends.backend_pdf import PdfPages\n",
        "import json\n",
        "\n",
        "# Read CSV file\n",
        "df = pd.read_csv('mountaineers.csv')\n",
        "# Convert CSV to JSON (remove index)\n",
        "json_mountaineers = df.to_json(orient='records')\n",
        "# Load JSON string into dictionary\n",
        "mountaineers = json.loads(json_mountaineers)\n",
        "\n",
        "# The mountaineer count each year for 5 countries\n",
        "total_mountaineers = {'NEPAL': 0, 'USA': 0, 'UK': 0, 'CHINA': 0, 'CANADA': 0}\n",
        "\n",
        "# Filter the data, extract into new dicitonary\n",
        "def filter_data(data, country):\n",
        "    count = 0\n",
        "    reset = True\n",
        "    for i in mountaineers:\n",
        "        # Number of mountainers in 2013\n",
        "        if i['COUNTRY'] == country and i['YEAR'] == 2010:\n",
        "            count = count + 1\n",
        "            data[country] = count\n",
        "        # Number of mountainers in 2011\n",
        "        # if i['COUNTRY'] == country and i['YEAR'] == 2011:\n",
        "        #     if reset is True:\n",
        "        #         count = 0\n",
        "        #         reset = False\n",
        "        #     count = count + 1\n",
        "        #     data[country] = count + 1\n",
        "        # # Number of mountainers in 2013\n",
        "        # if i['COUNTRY'] == country and i['YEAR'] == 2012:\n",
        "        #     if reset is False:\n",
        "        #         count = 0\n",
        "        #         reset = True\n",
        "        #     count = count + 1\n",
        "        #     data[country] = count + 1\n",
        "    return total_mountaineers \n",
        "\n",
        "# Configure the number of climbers for each country\n",
        "add_nepal_climbers = filter_data(total_mountaineers, 'NEPAL')\n",
        "add_usa_climbers = filter_data(total_mountaineers, 'USA')\n",
        "add_uk_climbers = filter_data(total_mountaineers, 'UK')\n",
        "add_china_climbers = filter_data(total_mountaineers, 'CHINA')\n",
        "add_australia_climbers = filter_data(total_mountaineers, 'CANADA')\n",
        "all_climbers = total_mountaineers\n",
        "\n",
        "print(all_climbers)\n",
        "\n",
        "# Print JSON file (for debugging)\n",
        "# print(json.dumps(obj, indent=4))\n",
        "\n",
        "# Visualize mountaineers in bar chart\n",
        "# Create a data frame\n",
        "df = pd.DataFrame(list(total_mountaineers.items()),columns = ['Country','Number of Mountaineers']) \n",
        "\n",
        "with PdfPages(r'Mt. Everest Mountaineers.pdf') as export_pdf:\n",
        "    # Creat bar chart\n",
        "    plt.barh(df['Country'], df['Number of Mountaineers'], color=['#1F456E', '#004F98', '#0492C2', '#63C5DA', '#BCD4E6'])\n",
        "    plt.title('Mt. Everest Mountaineers, 2013')\n",
        "    plt.xlabel('Number of Mountaineers')\n",
        "    plt.ylabel('Country of Origin')\n",
        "    plt.tight_layout()\n",
        "    # To display chart from command line\n",
        "    # plt.show()\n",
        "    # Export to PDF\n",
        "    export_pdf.savefig()\n",
        "    plt.close()"
      ]
    },
    {
      "cell_type": "code",
      "source": [
        "add_nepal_climbers = filter_data(total_mountaineers, 'NEPAL')\n",
        "add_usa_climbers = filter_data(total_mountaineers, 'USA')\n",
        "add_uk_climbers = filter_data(total_mountaineers, 'UK')\n",
        "add_china_climbers = filter_data(total_mountaineers, 'CHINA')\n",
        "add_australia_climbers = filter_data(total_mountaineers, 'CANADA')\n",
        "all_climbers = total_mountaineers\n",
        "print(all_climbers)"
      ],
      "metadata": {
        "colab": {
          "base_uri": "https://localhost:8080/"
        },
        "id": "Y9dC3fPyhjRG",
        "outputId": "e37483a2-16bd-4f3d-fd99-75e84700a46f"
      },
      "execution_count": null,
      "outputs": [
        {
          "output_type": "stream",
          "name": "stdout",
          "text": [
            "{'NEPAL': 345, 'USA': 45, 'UK': 17, 'CHINA': 13, 'CANADA': 10}\n"
          ]
        }
      ]
    },
    {
      "cell_type": "code",
      "source": [
        "with PdfPages(r'Mt. Everest Mountaineers.pdf') as export_pdf:\n",
        "    # Creat bar chart\n",
        "    plt.barh(df['Country'], df['Number of Mountaineers'], color=['#1F456E', '#004F98', '#0492C2', '#63C5DA', '#BCD4E6'])\n",
        "    plt.title('Mt. Everest Mountaineers, 2013')\n",
        "    plt.xlabel('Number of Mountaineers')\n",
        "    plt.ylabel('Country of Origin')\n",
        "    plt.tight_layout()\n",
        "    # To display chart from command line\n",
        "    # plt.show()\n",
        "    # Export to PDF\n",
        "    export_pdf.savefig()\n",
        "    plt.close()\n",
        "  "
      ],
      "metadata": {
        "id": "TIvrUe1Bh98i"
      },
      "execution_count": null,
      "outputs": []
    }
  ]
}